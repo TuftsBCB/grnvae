{
 "cells": [
  {
   "cell_type": "markdown",
   "id": "245f02f2-7c5e-4f76-8058-3405c54ab56d",
   "metadata": {},
   "source": [
    "# Getting Started with GRN-VAE\n",
    "\n",
    "This document provides an end-to-end demonstration on how to infer GRN with our implementation of GRN-VAE. "
   ]
  },
  {
   "cell_type": "code",
   "execution_count": 1,
   "id": "757501ef-6bf7-466b-8d47-7b2ebc98e8b5",
   "metadata": {},
   "outputs": [],
   "source": [
    "import numpy as np\n",
    "from data import load_beeline\n",
    "from logger import LightLogger\n",
    "from runner import runGRNVAE\n",
    "from evaluate import extract_edges, get_metrics\n",
    "import seaborn as sns\n",
    "import matplotlib.pyplot as plt"
   ]
  },
  {
   "cell_type": "markdown",
   "id": "e32622bc-94b4-4c1c-9e43-fe64a3f74f19",
   "metadata": {},
   "source": [
    "## Model Configurations\n",
    "\n",
    "First you need to define some configs for running the model. We suggest you start with the following set of parameters. The three key concepts proposed in the GRN-VAE paper are controlled by the following parameters. \n",
    "\n",
    "- `delayed_steps_on_sparse`: Number of delayed steps on introducing the sparse loss. \n",
    "- `dropout_augmentation`: The proportion of data that will be randomly masked as dropout in each traing step.\n",
    "- `train_on_non_zero`: Whether to train the model on non-zero expression data\n",
    "\n",
    "Note that here we also use lower learning rates for a longer period of time when model is trained on non-zero data. "
   ]
  },
  {
   "cell_type": "code",
   "execution_count": 2,
   "id": "d4c15b3d-9218-4586-acc8-091bf515111c",
   "metadata": {},
   "outputs": [],
   "source": [
    "configs = {\n",
    "    # Train/Test split\n",
    "    'train_split': 1.0,\n",
    "    'train_split_seed': None, \n",
    "    \n",
    "    # Neural Net Definition\n",
    "    'hidden_dim': 128,\n",
    "    'z_dim': 1,\n",
    "    'A_dim': 0,\n",
    "    'train_on_non_zero': True,\n",
    "    'dropout_augmentation': 0.1,\n",
    "    'cuda': True,\n",
    "    \n",
    "    # Loss\n",
    "    'alpha': 100,\n",
    "    'beta': 1,\n",
    "    'h_scale': 0,\n",
    "    'delayed_steps_on_sparse': 30,\n",
    "    \n",
    "    # Neural Net Training\n",
    "    'batch_size': 256,\n",
    "    'n_epochs': 1000,\n",
    "    'schedule': [30, 100],\n",
    "    'eval_on_n_steps': 10,\n",
    "    'early_stopping': 0,\n",
    "    'lr_nn': 1e-4,\n",
    "    'lr_adj': 2e-5,\n",
    "    'K1': 1,\n",
    "    'K2': 1\n",
    "}"
   ]
  },
  {
   "cell_type": "markdown",
   "id": "3cdda832-f4b7-4758-b1f9-8f7403ba275d",
   "metadata": {},
   "source": [
    "## Data loading\n",
    "[BEELINE benchmarks](https://github.com/Murali-group/Beeline) could be loaded by the `load_beeline` function, where you specify where to look for data and which benchmark to load. If it's the first time, this function will download the files automatically. \n",
    "\n",
    "The `data` object exported by `load_beeline` is an [annData](https://anndata.readthedocs.io/en/stable/generated/anndata.AnnData.html#anndata.AnnData) object read by [scanpy](https://scanpy.readthedocs.io/en/stable/). The `ground_truth` object includes ground truth edges based on the BEELINE benchmark but it's not required for network inference. \n",
    "\n",
    "When you use GRN-VAE on a real world data to discover noval regulatory relationship, here are a few tips on preparing your data:\n",
    "\n",
    "- You can read in data in any formats but make sure your data has genes in the column/var and cells in the rows/obs. Transpose your data if it's necessary. \n",
    "- Find out the most variable genes. Unlike many traditional algorithm, GRN-VAE has the capacity to run on large amount of data. Therefore you can set the number of variable genes very high. As described in the paper, we used 5,000 for our Hammond experiment. The only reason why we need this gene filter is to help converge the model.\n",
    "- Normalize your data. A simple log transformation is good enough. "
   ]
  },
  {
   "cell_type": "code",
   "execution_count": 3,
   "id": "00b34db8-7a88-4e39-8900-f30261dd203c",
   "metadata": {},
   "outputs": [],
   "source": [
    "# Load data from a BEELINE benchmark\n",
    "data, ground_truth = load_beeline(\n",
    "    data_dir='data', \n",
    "    benchmark_data='hESC', \n",
    "    benchmark_setting='500_STRING'\n",
    ")"
   ]
  },
  {
   "cell_type": "markdown",
   "id": "c4a2fb83-ddad-47ad-b50d-95ab1b8f7ddf",
   "metadata": {},
   "source": [
    "## Model Training\n",
    "\n",
    "Model training is simple with the `runGRNVAE` function. As said above, if ground truth is not available, just set `ground_truth` to be `None`."
   ]
  },
  {
   "cell_type": "code",
   "execution_count": 4,
   "id": "edbe4869-ad1f-4061-badb-70106278c8eb",
   "metadata": {
    "tags": []
   },
   "outputs": [
    {
     "name": "stderr",
     "output_type": "stream",
     "text": [
      "/h/hao/miniconda3/lib/python3.10/site-packages/torch/cuda/__init__.py:497: UserWarning: Can't initialize NVML\n",
      "  warnings.warn(\"Can't initialize NVML\")\n",
      "  0%|          | 0/1000 [00:00<?, ?it/s]/h/hao/miniconda3/lib/python3.10/site-packages/torch/optim/lr_scheduler.py:138: UserWarning: Detected call of `lr_scheduler.step()` before `optimizer.step()`. In PyTorch 1.1.0 and later, you should call them in the opposite order: `optimizer.step()` before `lr_scheduler.step()`.  Failure to do this will result in PyTorch skipping the first value of the learning rate schedule. See more details at https://pytorch.org/docs/stable/optim.html#how-to-adjust-learning-rate\n",
      "  warnings.warn(\"Detected call of `lr_scheduler.step()` before `optimizer.step()`. \"\n",
      "100%|██████████| 1000/1000 [01:04<00:00, 15.39it/s]\n"
     ]
    }
   ],
   "source": [
    "logger = LightLogger()\n",
    "# runGRNVAE initializes and trains a GRNVAE model with the configs specified. \n",
    "vae, adjs = runGRNVAE(\n",
    "    data.X, configs, ground_truth=ground_truth, logger=logger)"
   ]
  },
  {
   "cell_type": "markdown",
   "id": "f875fc9a-65cd-4400-aada-d91c89b6c9ee",
   "metadata": {},
   "source": [
    "The learned adjacency matrix could be obtained by the `get_adj()` method. For BEELINE benchmarks, you can get the performance metrics of this run using the `get_metrics` function. "
   ]
  },
  {
   "cell_type": "code",
   "execution_count": 5,
   "id": "d675a27c-57b5-4ed8-b418-d0a6182e9381",
   "metadata": {},
   "outputs": [
    {
     "data": {
      "text/plain": [
       "{'AUPR': 0.0552235472765148,\n",
       " 'AUPRR': 2.295960814041767,\n",
       " 'EP': 476,\n",
       " 'EPR': 4.648827955381867}"
      ]
     },
     "execution_count": 5,
     "metadata": {},
     "output_type": "execute_result"
    }
   ],
   "source": [
    "A = vae.get_adj()\n",
    "get_metrics(A, ground_truth)"
   ]
  },
  {
   "cell_type": "code",
   "execution_count": null,
   "id": "d3c831ca-7e00-446f-ac7b-023c6791f4a4",
   "metadata": {},
   "outputs": [],
   "source": []
  }
 ],
 "metadata": {
  "kernelspec": {
   "display_name": "grn",
   "language": "python",
   "name": "grn"
  },
  "language_info": {
   "codemirror_mode": {
    "name": "ipython",
    "version": 3
   },
   "file_extension": ".py",
   "mimetype": "text/x-python",
   "name": "python",
   "nbconvert_exporter": "python",
   "pygments_lexer": "ipython3",
   "version": "3.10.4"
  }
 },
 "nbformat": 4,
 "nbformat_minor": 5
}
